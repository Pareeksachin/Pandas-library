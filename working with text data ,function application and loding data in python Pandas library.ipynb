{
 "cells": [
  {
   "cell_type": "code",
   "execution_count": 2,
   "metadata": {},
   "outputs": [
    {
     "name": "stdout",
     "output_type": "stream",
     "text": [
      "          A         B         C         D\n",
      "0  0.948301  0.344737  0.783243  0.278070\n",
      "1  0.008996  0.297854  0.730928  0.276842\n",
      "2  0.830166  0.656580  0.439600  0.395609\n",
      "3  0.988644  0.886196  0.224891  0.560000\n",
      "4  0.711000  0.120082  0.747753  0.199409\n",
      "5  0.976866  0.714674  0.746294  0.219572\n",
      "6  0.420955  0.044199  0.962820  0.837433\n",
      "7  0.492919  0.158207  0.613651  0.419809\n",
      "8  0.145968  0.891618  0.221607  0.907752\n",
      "9  0.736845  0.621889  0.745287  0.102970\n"
     ]
    }
   ],
   "source": [
    "#function application and loding data in python Pandas library\n",
    "#table wise =pipe()\n",
    "#row or column wise=apply()\n",
    "import numpy as np\n",
    "import pandas as pd\n",
    "r=np.random.rand(10,4)\n",
    "df=pd.DataFrame(r,columns=['A','B','C','D'])\n",
    "print(df)"
   ]
  },
  {
   "cell_type": "code",
   "execution_count": 3,
   "metadata": {},
   "outputs": [
    {
     "data": {
      "text/html": [
       "<div>\n",
       "<style scoped>\n",
       "    .dataframe tbody tr th:only-of-type {\n",
       "        vertical-align: middle;\n",
       "    }\n",
       "\n",
       "    .dataframe tbody tr th {\n",
       "        vertical-align: top;\n",
       "    }\n",
       "\n",
       "    .dataframe thead th {\n",
       "        text-align: right;\n",
       "    }\n",
       "</style>\n",
       "<table border=\"1\" class=\"dataframe\">\n",
       "  <thead>\n",
       "    <tr style=\"text-align: right;\">\n",
       "      <th></th>\n",
       "      <th>A</th>\n",
       "      <th>B</th>\n",
       "      <th>C</th>\n",
       "      <th>D</th>\n",
       "    </tr>\n",
       "  </thead>\n",
       "  <tbody>\n",
       "    <tr>\n",
       "      <td>0</td>\n",
       "      <td>0.948301</td>\n",
       "      <td>0.344737</td>\n",
       "      <td>0.783243</td>\n",
       "      <td>0.278070</td>\n",
       "    </tr>\n",
       "    <tr>\n",
       "      <td>1</td>\n",
       "      <td>0.008996</td>\n",
       "      <td>0.297854</td>\n",
       "      <td>0.730928</td>\n",
       "      <td>0.276842</td>\n",
       "    </tr>\n",
       "    <tr>\n",
       "      <td>2</td>\n",
       "      <td>0.830166</td>\n",
       "      <td>0.656580</td>\n",
       "      <td>0.439600</td>\n",
       "      <td>0.395609</td>\n",
       "    </tr>\n",
       "    <tr>\n",
       "      <td>3</td>\n",
       "      <td>0.988644</td>\n",
       "      <td>0.886196</td>\n",
       "      <td>0.224891</td>\n",
       "      <td>0.560000</td>\n",
       "    </tr>\n",
       "    <tr>\n",
       "      <td>4</td>\n",
       "      <td>0.711000</td>\n",
       "      <td>0.120082</td>\n",
       "      <td>0.747753</td>\n",
       "      <td>0.199409</td>\n",
       "    </tr>\n",
       "    <tr>\n",
       "      <td>5</td>\n",
       "      <td>0.976866</td>\n",
       "      <td>0.714674</td>\n",
       "      <td>0.746294</td>\n",
       "      <td>0.219572</td>\n",
       "    </tr>\n",
       "    <tr>\n",
       "      <td>6</td>\n",
       "      <td>0.420955</td>\n",
       "      <td>0.044199</td>\n",
       "      <td>0.962820</td>\n",
       "      <td>0.837433</td>\n",
       "    </tr>\n",
       "    <tr>\n",
       "      <td>7</td>\n",
       "      <td>0.492919</td>\n",
       "      <td>0.158207</td>\n",
       "      <td>0.613651</td>\n",
       "      <td>0.419809</td>\n",
       "    </tr>\n",
       "    <tr>\n",
       "      <td>8</td>\n",
       "      <td>0.145968</td>\n",
       "      <td>0.891618</td>\n",
       "      <td>0.221607</td>\n",
       "      <td>0.907752</td>\n",
       "    </tr>\n",
       "    <tr>\n",
       "      <td>9</td>\n",
       "      <td>0.736845</td>\n",
       "      <td>0.621889</td>\n",
       "      <td>0.745287</td>\n",
       "      <td>0.102970</td>\n",
       "    </tr>\n",
       "  </tbody>\n",
       "</table>\n",
       "</div>"
      ],
      "text/plain": [
       "          A         B         C         D\n",
       "0  0.948301  0.344737  0.783243  0.278070\n",
       "1  0.008996  0.297854  0.730928  0.276842\n",
       "2  0.830166  0.656580  0.439600  0.395609\n",
       "3  0.988644  0.886196  0.224891  0.560000\n",
       "4  0.711000  0.120082  0.747753  0.199409\n",
       "5  0.976866  0.714674  0.746294  0.219572\n",
       "6  0.420955  0.044199  0.962820  0.837433\n",
       "7  0.492919  0.158207  0.613651  0.419809\n",
       "8  0.145968  0.891618  0.221607  0.907752\n",
       "9  0.736845  0.621889  0.745287  0.102970"
      ]
     },
     "execution_count": 3,
     "metadata": {},
     "output_type": "execute_result"
    }
   ],
   "source": [
    "df"
   ]
  },
  {
   "cell_type": "code",
   "execution_count": 4,
   "metadata": {},
   "outputs": [
    {
     "data": {
      "text/plain": [
       "pandas.core.frame.DataFrame"
      ]
     },
     "execution_count": 4,
     "metadata": {},
     "output_type": "execute_result"
    }
   ],
   "source": [
    "df.pipe(type)"
   ]
  },
  {
   "cell_type": "code",
   "execution_count": 5,
   "metadata": {},
   "outputs": [
    {
     "data": {
      "text/html": [
       "<div>\n",
       "<style scoped>\n",
       "    .dataframe tbody tr th:only-of-type {\n",
       "        vertical-align: middle;\n",
       "    }\n",
       "\n",
       "    .dataframe tbody tr th {\n",
       "        vertical-align: top;\n",
       "    }\n",
       "\n",
       "    .dataframe thead th {\n",
       "        text-align: right;\n",
       "    }\n",
       "</style>\n",
       "<table border=\"1\" class=\"dataframe\">\n",
       "  <thead>\n",
       "    <tr style=\"text-align: right;\">\n",
       "      <th></th>\n",
       "      <th>A</th>\n",
       "      <th>B</th>\n",
       "      <th>C</th>\n",
       "      <th>D</th>\n",
       "    </tr>\n",
       "  </thead>\n",
       "  <tbody>\n",
       "    <tr>\n",
       "      <td>0</td>\n",
       "      <td>10.948301</td>\n",
       "      <td>10.344737</td>\n",
       "      <td>10.783243</td>\n",
       "      <td>10.278070</td>\n",
       "    </tr>\n",
       "    <tr>\n",
       "      <td>1</td>\n",
       "      <td>10.008996</td>\n",
       "      <td>10.297854</td>\n",
       "      <td>10.730928</td>\n",
       "      <td>10.276842</td>\n",
       "    </tr>\n",
       "    <tr>\n",
       "      <td>2</td>\n",
       "      <td>10.830166</td>\n",
       "      <td>10.656580</td>\n",
       "      <td>10.439600</td>\n",
       "      <td>10.395609</td>\n",
       "    </tr>\n",
       "    <tr>\n",
       "      <td>3</td>\n",
       "      <td>10.988644</td>\n",
       "      <td>10.886196</td>\n",
       "      <td>10.224891</td>\n",
       "      <td>10.560000</td>\n",
       "    </tr>\n",
       "    <tr>\n",
       "      <td>4</td>\n",
       "      <td>10.711000</td>\n",
       "      <td>10.120082</td>\n",
       "      <td>10.747753</td>\n",
       "      <td>10.199409</td>\n",
       "    </tr>\n",
       "    <tr>\n",
       "      <td>5</td>\n",
       "      <td>10.976866</td>\n",
       "      <td>10.714674</td>\n",
       "      <td>10.746294</td>\n",
       "      <td>10.219572</td>\n",
       "    </tr>\n",
       "    <tr>\n",
       "      <td>6</td>\n",
       "      <td>10.420955</td>\n",
       "      <td>10.044199</td>\n",
       "      <td>10.962820</td>\n",
       "      <td>10.837433</td>\n",
       "    </tr>\n",
       "    <tr>\n",
       "      <td>7</td>\n",
       "      <td>10.492919</td>\n",
       "      <td>10.158207</td>\n",
       "      <td>10.613651</td>\n",
       "      <td>10.419809</td>\n",
       "    </tr>\n",
       "    <tr>\n",
       "      <td>8</td>\n",
       "      <td>10.145968</td>\n",
       "      <td>10.891618</td>\n",
       "      <td>10.221607</td>\n",
       "      <td>10.907752</td>\n",
       "    </tr>\n",
       "    <tr>\n",
       "      <td>9</td>\n",
       "      <td>10.736845</td>\n",
       "      <td>10.621889</td>\n",
       "      <td>10.745287</td>\n",
       "      <td>10.102970</td>\n",
       "    </tr>\n",
       "  </tbody>\n",
       "</table>\n",
       "</div>"
      ],
      "text/plain": [
       "           A          B          C          D\n",
       "0  10.948301  10.344737  10.783243  10.278070\n",
       "1  10.008996  10.297854  10.730928  10.276842\n",
       "2  10.830166  10.656580  10.439600  10.395609\n",
       "3  10.988644  10.886196  10.224891  10.560000\n",
       "4  10.711000  10.120082  10.747753  10.199409\n",
       "5  10.976866  10.714674  10.746294  10.219572\n",
       "6  10.420955  10.044199  10.962820  10.837433\n",
       "7  10.492919  10.158207  10.613651  10.419809\n",
       "8  10.145968  10.891618  10.221607  10.907752\n",
       "9  10.736845  10.621889  10.745287  10.102970"
      ]
     },
     "execution_count": 5,
     "metadata": {},
     "output_type": "execute_result"
    }
   ],
   "source": [
    "def add(a,b):\n",
    "    return a+b\n",
    "\n",
    "df.pipe(add,10)"
   ]
  },
  {
   "cell_type": "code",
   "execution_count": 6,
   "metadata": {},
   "outputs": [
    {
     "data": {
      "text/plain": [
       "A    <class 'pandas.core.series.Series'>\n",
       "B    <class 'pandas.core.series.Series'>\n",
       "C    <class 'pandas.core.series.Series'>\n",
       "D    <class 'pandas.core.series.Series'>\n",
       "dtype: object"
      ]
     },
     "execution_count": 6,
     "metadata": {},
     "output_type": "execute_result"
    }
   ],
   "source": [
    "df.apply(type)"
   ]
  },
  {
   "cell_type": "code",
   "execution_count": 7,
   "metadata": {},
   "outputs": [
    {
     "ename": "NameError",
     "evalue": "name 'mean' is not defined",
     "output_type": "error",
     "traceback": [
      "\u001b[1;31m---------------------------------------------------------------------------\u001b[0m",
      "\u001b[1;31mNameError\u001b[0m                                 Traceback (most recent call last)",
      "\u001b[1;32m<ipython-input-7-d2af61085fd5>\u001b[0m in \u001b[0;36m<module>\u001b[1;34m\u001b[0m\n\u001b[1;32m----> 1\u001b[1;33m \u001b[0mdf\u001b[0m\u001b[1;33m.\u001b[0m\u001b[0mapply\u001b[0m\u001b[1;33m(\u001b[0m\u001b[0mmean\u001b[0m\u001b[1;33m)\u001b[0m\u001b[1;33m\u001b[0m\u001b[1;33m\u001b[0m\u001b[0m\n\u001b[0m",
      "\u001b[1;31mNameError\u001b[0m: name 'mean' is not defined"
     ]
    }
   ],
   "source": [
    "df.apply(mean)"
   ]
  },
  {
   "cell_type": "code",
   "execution_count": 8,
   "metadata": {},
   "outputs": [
    {
     "data": {
      "text/plain": [
       "A    0.626066\n",
       "B    0.473604\n",
       "C    0.621608\n",
       "D    0.419746\n",
       "dtype: float64"
      ]
     },
     "execution_count": 8,
     "metadata": {},
     "output_type": "execute_result"
    }
   ],
   "source": [
    "#which pakage it is belongs\n",
    "#numpy\n",
    "df.apply(np.mean)"
   ]
  },
  {
   "cell_type": "code",
   "execution_count": 9,
   "metadata": {},
   "outputs": [
    {
     "data": {
      "text/plain": [
       "0    0.588587\n",
       "1    0.328655\n",
       "2    0.580489\n",
       "3    0.664933\n",
       "4    0.444561\n",
       "5    0.664351\n",
       "6    0.566352\n",
       "7    0.421147\n",
       "8    0.541736\n",
       "9    0.551747\n",
       "dtype: float64"
      ]
     },
     "execution_count": 9,
     "metadata": {},
     "output_type": "execute_result"
    }
   ],
   "source": [
    "df.apply(np.mean,axis =1)"
   ]
  },
  {
   "cell_type": "code",
   "execution_count": 10,
   "metadata": {},
   "outputs": [
    {
     "data": {
      "text/plain": [
       "0    <class 'pandas.core.series.Series'>\n",
       "1    <class 'pandas.core.series.Series'>\n",
       "2    <class 'pandas.core.series.Series'>\n",
       "3    <class 'pandas.core.series.Series'>\n",
       "4    <class 'pandas.core.series.Series'>\n",
       "5    <class 'pandas.core.series.Series'>\n",
       "6    <class 'pandas.core.series.Series'>\n",
       "7    <class 'pandas.core.series.Series'>\n",
       "8    <class 'pandas.core.series.Series'>\n",
       "9    <class 'pandas.core.series.Series'>\n",
       "dtype: object"
      ]
     },
     "execution_count": 10,
     "metadata": {},
     "output_type": "execute_result"
    }
   ],
   "source": [
    "df.apply(type,axis =1)"
   ]
  },
  {
   "cell_type": "code",
   "execution_count": 5,
   "metadata": {},
   "outputs": [
    {
     "data": {
      "text/plain": [
       "'D:\\\\Pendrive'"
      ]
     },
     "execution_count": 5,
     "metadata": {},
     "output_type": "execute_result"
    }
   ],
   "source": [
    "#how to load the data in python\n",
    "import os\n",
    "import pandas as pd\n",
    "\n",
    "os.getcwd()#current working directory function ...it belongs to the OS package\n",
    "os.chdir('D:\\Pendrive')\n",
    "os.getcwd()"
   ]
  },
  {
   "cell_type": "code",
   "execution_count": 8,
   "metadata": {},
   "outputs": [
    {
     "name": "stdout",
     "output_type": "stream",
     "text": [
      "       movieId                                title  \\\n",
      "0            1                     Toy Story (1995)   \n",
      "1            2                       Jumanji (1995)   \n",
      "2            3              Grumpier Old Men (1995)   \n",
      "3            4             Waiting to Exhale (1995)   \n",
      "4            5   Father of the Bride Part II (1995)   \n",
      "...        ...                                  ...   \n",
      "10324   146684        Cosmic Scrat-tastrophe (2015)   \n",
      "10325   146878           Le Grand Restaurant (1966)   \n",
      "10326   148238       A Very Murray Christmas (2015)   \n",
      "10327   148626                 The Big Short (2015)   \n",
      "10328   149532  Marco Polo: One Hundred Eyes (2015)   \n",
      "\n",
      "                                            genres  \n",
      "0      Adventure|Animation|Children|Comedy|Fantasy  \n",
      "1                       Adventure|Children|Fantasy  \n",
      "2                                   Comedy|Romance  \n",
      "3                             Comedy|Drama|Romance  \n",
      "4                                           Comedy  \n",
      "...                                            ...  \n",
      "10324                    Animation|Children|Comedy  \n",
      "10325                                       Comedy  \n",
      "10326                                       Comedy  \n",
      "10327                                        Drama  \n",
      "10328                           (no genres listed)  \n",
      "\n",
      "[10329 rows x 3 columns]\n"
     ]
    }
   ],
   "source": [
    "data=pd.read_csv(\"D:\\Pendrive\\movies.csv\")\n",
    "print(data)"
   ]
  },
  {
   "cell_type": "code",
   "execution_count": 10,
   "metadata": {},
   "outputs": [
    {
     "data": {
      "text/plain": [
       "(10329, 3)"
      ]
     },
     "execution_count": 10,
     "metadata": {},
     "output_type": "execute_result"
    }
   ],
   "source": [
    "data.shape\n"
   ]
  },
  {
   "cell_type": "code",
   "execution_count": 11,
   "metadata": {},
   "outputs": [
    {
     "data": {
      "text/plain": [
       "Index(['movieId', 'title', 'genres'], dtype='object')"
      ]
     },
     "execution_count": 11,
     "metadata": {},
     "output_type": "execute_result"
    }
   ],
   "source": [
    "data.columns\n"
   ]
  },
  {
   "cell_type": "code",
   "execution_count": 12,
   "metadata": {},
   "outputs": [
    {
     "name": "stdout",
     "output_type": "stream",
     "text": [
      "           Id                          Movie title  \\\n",
      "0           1                     Toy Story (1995)   \n",
      "1           2                       Jumanji (1995)   \n",
      "2           3              Grumpier Old Men (1995)   \n",
      "3           4             Waiting to Exhale (1995)   \n",
      "4           5   Father of the Bride Part II (1995)   \n",
      "...       ...                                  ...   \n",
      "10324  146684        Cosmic Scrat-tastrophe (2015)   \n",
      "10325  146878           Le Grand Restaurant (1966)   \n",
      "10326  148238       A Very Murray Christmas (2015)   \n",
      "10327  148626                 The Big Short (2015)   \n",
      "10328  149532  Marco Polo: One Hundred Eyes (2015)   \n",
      "\n",
      "                                             gener  \n",
      "0      Adventure|Animation|Children|Comedy|Fantasy  \n",
      "1                       Adventure|Children|Fantasy  \n",
      "2                                   Comedy|Romance  \n",
      "3                             Comedy|Drama|Romance  \n",
      "4                                           Comedy  \n",
      "...                                            ...  \n",
      "10324                    Animation|Children|Comedy  \n",
      "10325                                       Comedy  \n",
      "10326                                       Comedy  \n",
      "10327                                        Drama  \n",
      "10328                           (no genres listed)  \n",
      "\n",
      "[10329 rows x 3 columns]\n"
     ]
    }
   ],
   "source": [
    "#to change the header part\n",
    "#to remove the header part put header=1,skiprows=1,\n",
    "data=pd.read_csv(\"D:\\Pendrive\\movies.csv\",skiprows=1,names=['Id','Movie title','gener'])\n",
    "print(data)"
   ]
  },
  {
   "cell_type": "code",
   "execution_count": 14,
   "metadata": {},
   "outputs": [
    {
     "name": "stdout",
     "output_type": "stream",
     "text": [
      "       movieId                                title                     genres\n",
      "0            3              Grumpier Old Men (1995)             Comedy|Romance\n",
      "1            5   Father of the Bride Part II (1995)                     Comedy\n",
      "2            6                          Heat (1995)      Action|Crime|Thriller\n",
      "3            7                       Sabrina (1995)             Comedy|Romance\n",
      "4            8                  Tom and Huck (1995)         Adventure|Children\n",
      "...        ...                                  ...                        ...\n",
      "10321   146684        Cosmic Scrat-tastrophe (2015)  Animation|Children|Comedy\n",
      "10322   146878           Le Grand Restaurant (1966)                     Comedy\n",
      "10323   148238       A Very Murray Christmas (2015)                     Comedy\n",
      "10324   148626                 The Big Short (2015)                      Drama\n",
      "10325   149532  Marco Polo: One Hundred Eyes (2015)         (no genres listed)\n",
      "\n",
      "[10326 rows x 3 columns]\n"
     ]
    }
   ],
   "source": [
    "#to skip the rows\n",
    "#when we put header=None then it will count the header in to the variables\n",
    "data=pd.read_csv(\"D:\\Pendrive\\movies.csv\",skiprows=[1,2,4])\n",
    "print(data)\n"
   ]
  },
  {
   "cell_type": "code",
   "execution_count": 15,
   "metadata": {},
   "outputs": [
    {
     "data": {
      "text/html": [
       "<div>\n",
       "<style scoped>\n",
       "    .dataframe tbody tr th:only-of-type {\n",
       "        vertical-align: middle;\n",
       "    }\n",
       "\n",
       "    .dataframe tbody tr th {\n",
       "        vertical-align: top;\n",
       "    }\n",
       "\n",
       "    .dataframe thead th {\n",
       "        text-align: right;\n",
       "    }\n",
       "</style>\n",
       "<table border=\"1\" class=\"dataframe\">\n",
       "  <thead>\n",
       "    <tr style=\"text-align: right;\">\n",
       "      <th></th>\n",
       "      <th>movieId</th>\n",
       "      <th>title</th>\n",
       "      <th>genres</th>\n",
       "    </tr>\n",
       "  </thead>\n",
       "  <tbody>\n",
       "    <tr>\n",
       "      <td>0</td>\n",
       "      <td>3</td>\n",
       "      <td>Grumpier Old Men (1995)</td>\n",
       "      <td>Comedy|Romance</td>\n",
       "    </tr>\n",
       "    <tr>\n",
       "      <td>1</td>\n",
       "      <td>5</td>\n",
       "      <td>Father of the Bride Part II (1995)</td>\n",
       "      <td>Comedy</td>\n",
       "    </tr>\n",
       "    <tr>\n",
       "      <td>2</td>\n",
       "      <td>6</td>\n",
       "      <td>Heat (1995)</td>\n",
       "      <td>Action|Crime|Thriller</td>\n",
       "    </tr>\n",
       "    <tr>\n",
       "      <td>3</td>\n",
       "      <td>7</td>\n",
       "      <td>Sabrina (1995)</td>\n",
       "      <td>Comedy|Romance</td>\n",
       "    </tr>\n",
       "    <tr>\n",
       "      <td>4</td>\n",
       "      <td>8</td>\n",
       "      <td>Tom and Huck (1995)</td>\n",
       "      <td>Adventure|Children</td>\n",
       "    </tr>\n",
       "    <tr>\n",
       "      <td>...</td>\n",
       "      <td>...</td>\n",
       "      <td>...</td>\n",
       "      <td>...</td>\n",
       "    </tr>\n",
       "    <tr>\n",
       "      <td>10321</td>\n",
       "      <td>146684</td>\n",
       "      <td>Cosmic Scrat-tastrophe (2015)</td>\n",
       "      <td>Animation|Children|Comedy</td>\n",
       "    </tr>\n",
       "    <tr>\n",
       "      <td>10322</td>\n",
       "      <td>146878</td>\n",
       "      <td>Le Grand Restaurant (1966)</td>\n",
       "      <td>Comedy</td>\n",
       "    </tr>\n",
       "    <tr>\n",
       "      <td>10323</td>\n",
       "      <td>148238</td>\n",
       "      <td>A Very Murray Christmas (2015)</td>\n",
       "      <td>Comedy</td>\n",
       "    </tr>\n",
       "    <tr>\n",
       "      <td>10324</td>\n",
       "      <td>148626</td>\n",
       "      <td>The Big Short (2015)</td>\n",
       "      <td>Drama</td>\n",
       "    </tr>\n",
       "    <tr>\n",
       "      <td>10325</td>\n",
       "      <td>149532</td>\n",
       "      <td>Marco Polo: One Hundred Eyes (2015)</td>\n",
       "      <td>(no genres listed)</td>\n",
       "    </tr>\n",
       "  </tbody>\n",
       "</table>\n",
       "<p>10326 rows × 3 columns</p>\n",
       "</div>"
      ],
      "text/plain": [
       "       movieId                                title                     genres\n",
       "0            3              Grumpier Old Men (1995)             Comedy|Romance\n",
       "1            5   Father of the Bride Part II (1995)                     Comedy\n",
       "2            6                          Heat (1995)      Action|Crime|Thriller\n",
       "3            7                       Sabrina (1995)             Comedy|Romance\n",
       "4            8                  Tom and Huck (1995)         Adventure|Children\n",
       "...        ...                                  ...                        ...\n",
       "10321   146684        Cosmic Scrat-tastrophe (2015)  Animation|Children|Comedy\n",
       "10322   146878           Le Grand Restaurant (1966)                     Comedy\n",
       "10323   148238       A Very Murray Christmas (2015)                     Comedy\n",
       "10324   148626                 The Big Short (2015)                      Drama\n",
       "10325   149532  Marco Polo: One Hundred Eyes (2015)         (no genres listed)\n",
       "\n",
       "[10326 rows x 3 columns]"
      ]
     },
     "execution_count": 15,
     "metadata": {},
     "output_type": "execute_result"
    }
   ],
   "source": [
    "data"
   ]
  },
  {
   "cell_type": "code",
   "execution_count": 20,
   "metadata": {},
   "outputs": [
    {
     "name": "stdout",
     "output_type": "stream",
     "text": [
      "        userId  movieId  rating   timestamp\n",
      "0            1       16     4.0  1217897793\n",
      "1            1       24     1.5  1217895807\n",
      "2            1       32     4.0  1217896246\n",
      "3            1       47     4.0  1217896556\n",
      "4            1       50     4.0  1217896523\n",
      "...        ...      ...     ...         ...\n",
      "105334     668   142488     4.0  1451535844\n",
      "105335     668   142507     3.5  1451535889\n",
      "105336     668   143385     4.0  1446388585\n",
      "105337     668   144976     2.5  1448656898\n",
      "105338     668   148626     4.5  1451148148\n",
      "\n",
      "[105339 rows x 4 columns]\n"
     ]
    }
   ],
   "source": [
    "data1=pd.read_csv(\"D:/Pendrive/ratings.csv\",)\n",
    "print(data1)\n"
   ]
  },
  {
   "cell_type": "code",
   "execution_count": 21,
   "metadata": {},
   "outputs": [
    {
     "data": {
      "text/plain": [
       "userId         int64\n",
       "movieId        int64\n",
       "rating       float64\n",
       "timestamp      int64\n",
       "dtype: object"
      ]
     },
     "execution_count": 21,
     "metadata": {},
     "output_type": "execute_result"
    }
   ],
   "source": [
    "data1.dtypes"
   ]
  },
  {
   "cell_type": "code",
   "execution_count": 27,
   "metadata": {},
   "outputs": [
    {
     "name": "stdout",
     "output_type": "stream",
     "text": [
      "Tokenization took: 43.17 ms\n",
      "Type conversion took: 16.56 ms\n",
      "Parser memory cleanup took: 0.00 ms\n",
      "        userId  movieId  rating   timestamp\n",
      "0            1       16     4.0  1217897793\n",
      "1            1       24     1.5  1217895807\n",
      "2            1       32     4.0  1217896246\n",
      "3            1       47     4.0  1217896556\n",
      "4            1       50     4.0  1217896523\n",
      "...        ...      ...     ...         ...\n",
      "105334     668   142488     4.0  1451535844\n",
      "105335     668   142507     3.5  1451535889\n",
      "105336     668   143385     4.0  1446388585\n",
      "105337     668   144976     2.5  1448656898\n",
      "105338     668   148626     4.5  1451148148\n",
      "\n",
      "[105339 rows x 4 columns]\n"
     ]
    }
   ],
   "source": [
    "#change the data types\n",
    "data1=pd.read_csv(\"D:/Pendrive/ratings.csv\",verbose=True)\n",
    "print(data1)\n"
   ]
  },
  {
   "cell_type": "code",
   "execution_count": 26,
   "metadata": {},
   "outputs": [
    {
     "data": {
      "text/plain": [
       "userId         int64\n",
       "movieId        int64\n",
       "rating       float64\n",
       "timestamp      int64\n",
       "dtype: object"
      ]
     },
     "execution_count": 26,
     "metadata": {},
     "output_type": "execute_result"
    }
   ],
   "source": [
    "data1.dtypes"
   ]
  },
  {
   "cell_type": "code",
   "execution_count": 28,
   "metadata": {},
   "outputs": [
    {
     "name": "stdout",
     "output_type": "stream",
     "text": [
      "0                         sachin\n",
      "1                   Dream coders\n",
      "2                     9928871084\n",
      "3                         Jaipur\n",
      "4    Sachinpareek21874@gmail.com\n",
      "dtype: object\n"
     ]
    }
   ],
   "source": [
    "##working with text data\n",
    "import pandas as pd\n",
    "a=pd.Series(['sachin','Dream coders','9928871084','Jaipur','Sachinpareek21874@gmail.com'])\n",
    "print(a)"
   ]
  },
  {
   "cell_type": "code",
   "execution_count": 29,
   "metadata": {},
   "outputs": [
    {
     "data": {
      "text/plain": [
       "0     True\n",
       "1    False\n",
       "2    False\n",
       "3    False\n",
       "4    False\n",
       "dtype: bool"
      ]
     },
     "execution_count": 29,
     "metadata": {},
     "output_type": "execute_result"
    }
   ],
   "source": [
    "a.str.islower()"
   ]
  },
  {
   "cell_type": "code",
   "execution_count": 30,
   "metadata": {},
   "outputs": [
    {
     "data": {
      "text/plain": [
       "0    False\n",
       "1    False\n",
       "2    False\n",
       "3    False\n",
       "4    False\n",
       "dtype: bool"
      ]
     },
     "execution_count": 30,
     "metadata": {},
     "output_type": "execute_result"
    }
   ],
   "source": [
    "a.str.isupper()"
   ]
  },
  {
   "cell_type": "code",
   "execution_count": 31,
   "metadata": {},
   "outputs": [
    {
     "data": {
      "text/plain": [
       "0    False\n",
       "1    False\n",
       "2     True\n",
       "3    False\n",
       "4    False\n",
       "dtype: bool"
      ]
     },
     "execution_count": 31,
     "metadata": {},
     "output_type": "execute_result"
    }
   ],
   "source": [
    "a.str.isnumeric()"
   ]
  },
  {
   "cell_type": "code",
   "execution_count": 32,
   "metadata": {},
   "outputs": [
    {
     "data": {
      "text/plain": [
       "0                         sachin\n",
       "1                   dream coders\n",
       "2                     9928871084\n",
       "3                         jaipur\n",
       "4    sachinpareek21874@gmail.com\n",
       "dtype: object"
      ]
     },
     "execution_count": 32,
     "metadata": {},
     "output_type": "execute_result"
    }
   ],
   "source": [
    "a.str.lower()"
   ]
  },
  {
   "cell_type": "code",
   "execution_count": 33,
   "metadata": {},
   "outputs": [
    {
     "data": {
      "text/plain": [
       "0                         SACHIN\n",
       "1                   DREAM CODERS\n",
       "2                     9928871084\n",
       "3                         JAIPUR\n",
       "4    SACHINPAREEK21874@GMAIL.COM\n",
       "dtype: object"
      ]
     },
     "execution_count": 33,
     "metadata": {},
     "output_type": "execute_result"
    }
   ],
   "source": [
    "a.str.upper()"
   ]
  },
  {
   "cell_type": "code",
   "execution_count": 34,
   "metadata": {},
   "outputs": [
    {
     "data": {
      "text/plain": [
       "0                         SACHIN\n",
       "1                   dREAM CODERS\n",
       "2                     9928871084\n",
       "3                         jAIPUR\n",
       "4    sACHINPAREEK21874@GMAIL.COM\n",
       "dtype: object"
      ]
     },
     "execution_count": 34,
     "metadata": {},
     "output_type": "execute_result"
    }
   ],
   "source": [
    "a.str.swapcase()"
   ]
  },
  {
   "cell_type": "code",
   "execution_count": 35,
   "metadata": {},
   "outputs": [
    {
     "data": {
      "text/plain": [
       "0     6\n",
       "1    12\n",
       "2    10\n",
       "3     6\n",
       "4    27\n",
       "dtype: int64"
      ]
     },
     "execution_count": 35,
     "metadata": {},
     "output_type": "execute_result"
    }
   ],
   "source": [
    "a.str.len()"
   ]
  },
  {
   "cell_type": "code",
   "execution_count": 36,
   "metadata": {},
   "outputs": [
    {
     "data": {
      "text/plain": [
       "'sachinDream coders9928871084JaipurSachinpareek21874@gmail.com'"
      ]
     },
     "execution_count": 36,
     "metadata": {},
     "output_type": "execute_result"
    }
   ],
   "source": [
    "a.str.cat()"
   ]
  },
  {
   "cell_type": "code",
   "execution_count": 37,
   "metadata": {},
   "outputs": [
    {
     "data": {
      "text/plain": [
       "'sachin Dream coders 9928871084 Jaipur Sachinpareek21874@gmail.com'"
      ]
     },
     "execution_count": 37,
     "metadata": {},
     "output_type": "execute_result"
    }
   ],
   "source": [
    "a.str.cat(sep=' ')"
   ]
  },
  {
   "cell_type": "code",
   "execution_count": 38,
   "metadata": {},
   "outputs": [
    {
     "data": {
      "text/plain": [
       "0                         sachin\n",
       "1                   Dream coders\n",
       "2                     9928871084\n",
       "3                         Jaipur\n",
       "4    Sachinpareek21874$gmail.com\n",
       "dtype: object"
      ]
     },
     "execution_count": 38,
     "metadata": {},
     "output_type": "execute_result"
    }
   ],
   "source": [
    "a.str.replace('@','$')"
   ]
  },
  {
   "cell_type": "code",
   "execution_count": 39,
   "metadata": {},
   "outputs": [
    {
     "data": {
      "text/plain": [
       "0    1\n",
       "1    1\n",
       "2    0\n",
       "3    0\n",
       "4    0\n",
       "dtype: int64"
      ]
     },
     "execution_count": 39,
     "metadata": {},
     "output_type": "execute_result"
    }
   ],
   "source": [
    "a.str.count('s')"
   ]
  },
  {
   "cell_type": "code",
   "execution_count": null,
   "metadata": {},
   "outputs": [],
   "source": []
  }
 ],
 "metadata": {
  "kernelspec": {
   "display_name": "Python 3",
   "language": "python",
   "name": "python3"
  },
  "language_info": {
   "codemirror_mode": {
    "name": "ipython",
    "version": 3
   },
   "file_extension": ".py",
   "mimetype": "text/x-python",
   "name": "python",
   "nbconvert_exporter": "python",
   "pygments_lexer": "ipython3",
   "version": "3.7.4"
  }
 },
 "nbformat": 4,
 "nbformat_minor": 2
}
